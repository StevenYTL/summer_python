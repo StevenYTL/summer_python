{
 "cells": [
  {
   "cell_type": "code",
   "execution_count": 106,
   "metadata": {},
   "outputs": [],
   "source": [
    "import requests\n",
    "from bs4 import BeautifulSoup\n",
    "import datetime\n",
    "import os\n",
    "import codecs"
   ]
  },
  {
   "cell_type": "code",
   "execution_count": 107,
   "metadata": {},
   "outputs": [],
   "source": [
    "res = requests.get('https://www.ptt.cc/bbs/Food/index6825.html')\n",
    "soup = BeautifulSoup(res.text)"
   ]
  },
  {
   "cell_type": "code",
   "execution_count": 110,
   "metadata": {},
   "outputs": [],
   "source": [
    "i = 1\n",
    "for title in soup.select('div.title'):\n",
    "    for a in title.select('a'):\n",
    "        article = requests.get('http://www.ptt.cc'+a.attrs.get('href'))\n",
    "        #article.encoding('utf8')\n",
    "        a_soup = BeautifulSoup(article.text)\n",
    "        \n",
    "        os.chdir(\"C:\\\\Users\\\\steven\\\\Desktop\\\\2018Summer\\\\python\\\\summer_python\\\\hw2\\\\text\")\n",
    "        \n",
    "        f = codecs.open('{0}.txt'.format(i),'w', encoding = 'utf8')\n",
    "        for content in a_soup.select('div#main-content'):\n",
    "            try:\n",
    "                f.write(content.text)\n",
    "                #print(\"內容\",content.text)\n",
    "            except:\n",
    "                print(\"錯誤\",context.text)\n",
    "     \n",
    "    i = i+1\n",
    "\n",
    "f.close()\n",
    "        \n",
    "#         for content in a_soup.select('div#main-content'):\n",
    "#             print(content.text) \n",
    "#             print('--------------------------------------------c')\n",
    "        \n",
    "        \n",
    "       # print (a.attrs.get('href'))"
   ]
  },
  {
   "cell_type": "code",
   "execution_count": null,
   "metadata": {},
   "outputs": [],
   "source": []
  },
  {
   "cell_type": "code",
   "execution_count": 40,
   "metadata": {},
   "outputs": [],
   "source": [
    "article = requests.get('http://www.ptt.cc'+'/bbs/Food/M.1533467366.A.79A.html')\n",
    "soup = BeautifulSoup(article.text , )\n",
    "#for content in soup.select('div#main-content'):\n",
    "    #print(content.text)"
   ]
  },
  {
   "cell_type": "code",
   "execution_count": 92,
   "metadata": {},
   "outputs": [
    {
     "name": "stdout",
     "output_type": "stream",
     "text": [
      "<class 'str'>\n"
     ]
    }
   ],
   "source": [
    "print(type(content.text))"
   ]
  },
  {
   "cell_type": "code",
   "execution_count": 104,
   "metadata": {},
   "outputs": [],
   "source": [
    "f.close()"
   ]
  },
  {
   "cell_type": "code",
   "execution_count": null,
   "metadata": {},
   "outputs": [],
   "source": []
  }
 ],
 "metadata": {
  "kernelspec": {
   "display_name": "Python 3",
   "language": "python",
   "name": "python3"
  },
  "language_info": {
   "codemirror_mode": {
    "name": "ipython",
    "version": 3
   },
   "file_extension": ".py",
   "mimetype": "text/x-python",
   "name": "python",
   "nbconvert_exporter": "python",
   "pygments_lexer": "ipython3",
   "version": "3.7.0"
  }
 },
 "nbformat": 4,
 "nbformat_minor": 2
}
