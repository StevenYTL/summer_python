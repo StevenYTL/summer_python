{
 "cells": [
  {
   "cell_type": "code",
   "execution_count": 1,
   "metadata": {},
   "outputs": [],
   "source": [
    "import requests\n",
    "from bs4 import BeautifulSoup\n",
    "import datetime\n",
    "import os\n",
    "import codecs"
   ]
  },
  {
   "cell_type": "code",
   "execution_count": 2,
   "metadata": {
    "scrolled": true
   },
   "outputs": [],
   "source": [
    "count = 1\n",
    "cstop = 0\n",
    "os.chdir(\"C:\\\\Users\\\\steven\\\\Desktop\\\\2018Summer\\\\python\\\\summer_python\\\\hw2\\\\Food\")\n",
    "\n",
    "for i in range(25,19,-1):\n",
    "    res = requests.get('https://www.ptt.cc/bbs/Food/index68{0}.html'.format(i))\n",
    "    soup = BeautifulSoup(res.text)\n",
    "\n",
    "    for title in soup.select('div.title'):\n",
    "        for a in title.select('a'):\n",
    "#             ttt = a.text.replace(\"/\",\" \")\n",
    "#             print (ttt)\n",
    "            article = requests.get('http://www.ptt.cc'+ a.attrs.get('href'))\n",
    "            a_soup = BeautifulSoup(article.text)        \n",
    "\n",
    "            f = open('F_{0}.txt'.format(count),'w', encoding = 'utf8')\n",
    "            count = count + 1\n",
    "            for content in a_soup.select('div#main-content'):\n",
    "                try:\n",
    "                    f.write(content.text)\n",
    "                    #print(\"內容\",content.text)\n",
    "                except:\n",
    "                    print(\"錯誤\",context.text)\n",
    "            \n",
    "            if count == 101:\n",
    "                cstop = 1\n",
    "                break\n",
    "        if cstop == 1 :\n",
    "            i = 19\n",
    "            break    \n",
    "f.close()"
   ]
  },
  {
   "cell_type": "code",
   "execution_count": 48,
   "metadata": {},
   "outputs": [],
   "source": [
    "count = 1\n",
    "cstop = 0\n",
    "os.chdir(\"C:\\\\Users\\\\steven\\\\Desktop\\\\2018Summer\\\\python\\\\summer_python\\\\hw2\\\\Mobile\")\n",
    "\n",
    "for i in range(99,93,-1):\n",
    "    res = requests.get('https://www.ptt.cc/bbs/MobileComm/index64{0}.html'.format(i))\n",
    "    soup = BeautifulSoup(res.text)\n",
    "\n",
    "    for title in soup.select('div.title'):\n",
    "        for a in title.select('a'):\n",
    "#             ttt = a.text.replace(\"/\",\" \")\n",
    "#             print (ttt)\n",
    "            article = requests.get('http://www.ptt.cc'+ a.attrs.get('href'))\n",
    "            a_soup = BeautifulSoup(article.text)        \n",
    "\n",
    "            f = open('M_{0}.txt'.format(count),'w', encoding = 'utf8')\n",
    "            count = count + 1\n",
    "            for content in a_soup.select('div#main-content'):\n",
    "                try:\n",
    "                    f.write(content.text)\n",
    "                    #print(\"內容\",content.text)\n",
    "                except:\n",
    "                    print(\"錯誤\",context.text)\n",
    "                    \n",
    "            if count == 101:\n",
    "                cstop = 1\n",
    "                break\n",
    "        if cstop == 1 :\n",
    "            i = 19\n",
    "            break\n",
    "    \n",
    "f.close()"
   ]
  },
  {
   "cell_type": "code",
   "execution_count": null,
   "metadata": {},
   "outputs": [],
   "source": []
  }
 ],
 "metadata": {
  "kernelspec": {
   "display_name": "Python 3",
   "language": "python",
   "name": "python3"
  },
  "language_info": {
   "codemirror_mode": {
    "name": "ipython",
    "version": 3
   },
   "file_extension": ".py",
   "mimetype": "text/x-python",
   "name": "python",
   "nbconvert_exporter": "python",
   "pygments_lexer": "ipython3",
   "version": "3.7.0"
  }
 },
 "nbformat": 4,
 "nbformat_minor": 2
}
