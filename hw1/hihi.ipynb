{
 "cells": [
  {
   "cell_type": "code",
   "execution_count": 4,
   "metadata": {},
   "outputs": [],
   "source": [
    "Data_List = []\n",
    "with open('PracticePython.txt','r') as file:\n",
    "    the_list = file.readlines()\n",
    "    for a_line in the_list :\n",
    "        a_line = a_line.replace('\\n','')\n",
    "        a_line = a_line.split(',')\n",
    "        Data_List.append(a_line)"
   ]
  },
  {
   "cell_type": "code",
   "execution_count": 5,
   "metadata": {},
   "outputs": [
    {
     "data": {
      "text/plain": [
       "[['Aaron', '19940723', 'music', 'sport'],\n",
       " ['Benjamin', '19960518', 'reading', 'music'],\n",
       " ['Christ', '19630731', 'sport', 'reading'],\n",
       " ['David', '19580624', 'sport', 'musci'],\n",
       " ['Edward', '19990211', 'music', 'sport']]"
      ]
     },
     "execution_count": 5,
     "metadata": {},
     "output_type": "execute_result"
    }
   ],
   "source": [
    "Data_List"
   ]
  },
  {
   "cell_type": "code",
   "execution_count": 6,
   "metadata": {},
   "outputs": [
    {
     "data": {
      "text/plain": [
       "{'Aaron': {'birthday': '19940723', 'hobby': ['music', 'sport']},\n",
       " 'Benjamin': {'birthday': '19960518', 'hobby': ['reading', 'music']},\n",
       " 'Christ': {'birthday': '19630731', 'hobby': ['sport', 'reading']},\n",
       " 'David': {'birthday': '19580624', 'hobby': ['sport', 'musci']},\n",
       " 'Edward': {'birthday': '19990211', 'hobby': ['music', 'sport']}}"
      ]
     },
     "execution_count": 6,
     "metadata": {},
     "output_type": "execute_result"
    }
   ],
   "source": [
    "Name_Dict = {}\n",
    "\n",
    "for name in (0,len(Data_List)):\n",
    "    for i in Data_List:\n",
    "        Data_Dict = {}\n",
    "        Data_Dict.update({\"birthday\":i[1]})\n",
    "        a_list = []\n",
    "        a_list.append(i[2])\n",
    "        a_list.append(i[3])\n",
    "        Data_Dict.update({\"hobby\":a_list})\n",
    "        Name_Dict.update({i[0]:Data_Dict})\n",
    "Name_Dict"
   ]
  },
  {
   "cell_type": "code",
   "execution_count": 7,
   "metadata": {},
   "outputs": [],
   "source": [
    "class CName():\n",
    "    def __init__(self,n,b,h):\n",
    "        self.name = n\n",
    "        self.birthday = b\n",
    "        self.hobby = h\n",
    "    def print_data(self):\n",
    "        print (self.name , self.birthday , self.hobby)"
   ]
  },
  {
   "cell_type": "code",
   "execution_count": 8,
   "metadata": {},
   "outputs": [],
   "source": [
    "the_list = []\n",
    "N_list = {}\n",
    "for count in Name_Dict :\n",
    "    temp_list = CName(count,Name_Dict[count][\"birthday\"],Name_Dict[count][\"hobby\"])\n",
    "    the_list.append(temp_list)\n",
    "    N_list.update({count:temp_list})"
   ]
  },
  {
   "cell_type": "code",
   "execution_count": 9,
   "metadata": {},
   "outputs": [
    {
     "name": "stdout",
     "output_type": "stream",
     "text": [
      "Aaron 19940723 ['music', 'sport']\n"
     ]
    }
   ],
   "source": [
    "the_list[0].print_data()"
   ]
  },
  {
   "cell_type": "code",
   "execution_count": 10,
   "metadata": {},
   "outputs": [
    {
     "name": "stdout",
     "output_type": "stream",
     "text": [
      "Benjamin 19960518 ['reading', 'music']\n"
     ]
    }
   ],
   "source": [
    "N_list['Benjamin'].print_data()"
   ]
  },
  {
   "cell_type": "code",
   "execution_count": 11,
   "metadata": {},
   "outputs": [
    {
     "data": {
      "text/plain": [
       "{'birthday': '19940723', 'hobby': ['music', 'sport']}"
      ]
     },
     "execution_count": 11,
     "metadata": {},
     "output_type": "execute_result"
    }
   ],
   "source": [
    "Name_Dict['Aaron']"
   ]
  },
  {
   "cell_type": "code",
   "execution_count": null,
   "metadata": {},
   "outputs": [],
   "source": []
  }
 ],
 "metadata": {
  "kernelspec": {
   "display_name": "Python 3",
   "language": "python",
   "name": "python3"
  },
  "language_info": {
   "codemirror_mode": {
    "name": "ipython",
    "version": 3
   },
   "file_extension": ".py",
   "mimetype": "text/x-python",
   "name": "python",
   "nbconvert_exporter": "python",
   "pygments_lexer": "ipython3",
   "version": "3.7.0"
  }
 },
 "nbformat": 4,
 "nbformat_minor": 2
}
